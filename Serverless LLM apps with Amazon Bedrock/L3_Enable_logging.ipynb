{
 "cells": [
  {
   "cell_type": "markdown",
   "id": "cc6b7b9f-a75d-4b78-930f-26d2343ac2c2",
   "metadata": {},
   "source": [
    "# Lesson 3: Enable Logging"
   ]
  },
  {
   "cell_type": "markdown",
   "id": "06fc5839-0b4b-42a3-9aaf-99a97e347955",
   "metadata": {},
   "source": [
    "### Import all needed packages"
   ]
  },
  {
   "cell_type": "code",
   "execution_count": 1,
   "id": "63cf31e4",
   "metadata": {
    "height": 98
   },
   "outputs": [],
   "source": [
    "import boto3\n",
    "import json\n",
    "import os\n",
    "\n",
    "bedrock = boto3.client('bedrock', region_name=\"us-west-2\")"
   ]
  },
  {
   "cell_type": "code",
   "execution_count": 2,
   "id": "e5d9e31b",
   "metadata": {
    "height": 47
   },
   "outputs": [],
   "source": [
    "from helpers.CloudWatchHelper import CloudWatch_Helper\n",
    "cloudwatch = CloudWatch_Helper()"
   ]
  },
  {
   "cell_type": "code",
   "execution_count": 3,
   "id": "87a30e7e",
   "metadata": {
    "height": 30
   },
   "outputs": [],
   "source": [
    "log_group_name = '/my/amazon/bedrock/logs'"
   ]
  },
  {
   "cell_type": "code",
   "execution_count": 4,
   "id": "2461a51c",
   "metadata": {
    "height": 30
   },
   "outputs": [
    {
     "name": "stdout",
     "output_type": "stream",
     "text": [
      "Log group '/my/amazon/bedrock/logs' created successfully.\n"
     ]
    }
   ],
   "source": [
    "cloudwatch.create_log_group(log_group_name)"
   ]
  },
  {
   "cell_type": "code",
   "execution_count": 5,
   "id": "0afe5997",
   "metadata": {
    "height": 268
   },
   "outputs": [],
   "source": [
    "loggingConfig = {\n",
    "    'cloudWatchConfig': {\n",
    "        'logGroupName': log_group_name,\n",
    "        'roleArn': os.environ['LOGGINGROLEARN'],\n",
    "        'largeDataDeliveryS3Config': {\n",
    "            'bucketName': os.environ['LOGGINGBUCKETNAME'],\n",
    "            'keyPrefix': 'amazon_bedrock_large_data_delivery',\n",
    "        }\n",
    "    },\n",
    "    's3Config': {\n",
    "        'bucketName': os.environ['LOGGINGBUCKETNAME'],\n",
    "        'keyPrefix': 'amazon_bedrock_logs',\n",
    "    },\n",
    "    'textDataDeliveryEnabled': True,\n",
    "}"
   ]
  },
  {
   "cell_type": "code",
   "execution_count": 6,
   "id": "2ca33ffe",
   "metadata": {
    "height": 47
   },
   "outputs": [
    {
     "data": {
      "text/plain": [
       "{'ResponseMetadata': {'RequestId': '6b3fd73a-f27b-42ae-b5ee-0419da24c1fc',\n",
       "  'HTTPStatusCode': 200,\n",
       "  'HTTPHeaders': {'date': 'Mon, 03 Jun 2024 10:10:59 GMT',\n",
       "   'content-type': 'application/json',\n",
       "   'content-length': '2',\n",
       "   'connection': 'keep-alive',\n",
       "   'x-amzn-requestid': '6b3fd73a-f27b-42ae-b5ee-0419da24c1fc'},\n",
       "  'RetryAttempts': 0}}"
      ]
     },
     "execution_count": 6,
     "metadata": {},
     "output_type": "execute_result"
    }
   ],
   "source": [
    "bedrock.put_model_invocation_logging_configuration(loggingConfig=loggingConfig)"
   ]
  },
  {
   "cell_type": "code",
   "execution_count": 7,
   "id": "41fdb20d",
   "metadata": {
    "height": 30
   },
   "outputs": [
    {
     "data": {
      "text/plain": [
       "{'ResponseMetadata': {'RequestId': 'dca1ced3-b5cf-4e8d-ba48-8060b57dd9e3',\n",
       "  'HTTPStatusCode': 200,\n",
       "  'HTTPHeaders': {'date': 'Mon, 03 Jun 2024 10:10:59 GMT',\n",
       "   'content-type': 'application/json',\n",
       "   'content-length': '572',\n",
       "   'connection': 'keep-alive',\n",
       "   'x-amzn-requestid': 'dca1ced3-b5cf-4e8d-ba48-8060b57dd9e3'},\n",
       "  'RetryAttempts': 0},\n",
       " 'loggingConfig': {'cloudWatchConfig': {'logGroupName': '/my/amazon/bedrock/logs',\n",
       "   'roleArn': 'arn:aws:iam::244742310057:role/c99355a2566044l6838984t1w24474231005-LoggingIAMRole-gEKri330OnCq',\n",
       "   'largeDataDeliveryS3Config': {'bucketName': 'c99355a2566044l6838984t1w244742310-loggings3bucket-q87rpd5ftemh',\n",
       "    'keyPrefix': 'amazon_bedrock_large_data_delivery'}},\n",
       "  's3Config': {'bucketName': 'c99355a2566044l6838984t1w244742310-loggings3bucket-q87rpd5ftemh',\n",
       "   'keyPrefix': 'amazon_bedrock_logs'},\n",
       "  'textDataDeliveryEnabled': True,\n",
       "  'imageDataDeliveryEnabled': True,\n",
       "  'embeddingDataDeliveryEnabled': True}}"
      ]
     },
     "execution_count": 7,
     "metadata": {},
     "output_type": "execute_result"
    }
   ],
   "source": [
    "bedrock.get_model_invocation_logging_configuration()"
   ]
  },
  {
   "cell_type": "code",
   "execution_count": 8,
   "id": "95ebecb7",
   "metadata": {
    "height": 47
   },
   "outputs": [],
   "source": [
    "bedrock_runtime = boto3.client('bedrock-runtime', region_name=\"us-west-2\")"
   ]
  },
  {
   "cell_type": "code",
   "execution_count": 9,
   "id": "402c6311",
   "metadata": {
    "height": 421
   },
   "outputs": [
    {
     "name": "stdout",
     "output_type": "stream",
     "text": [
      "\n",
      "Foobar is a fictional planet that appears in several works of science fiction literature and media. It is often described as a distant and mysterious world with unique features and characteristics. Here's a brief overview of the fictional planet Foobar:\n",
      "\n",
      "Location and Description:\n",
      "Foobar is a planet located in a distant region of the galaxy, often referred to as the \"Outer Rim\" or \"Far Beyond.\" It is said to be a planet with a harsh and unforgiving environment, characterized by extreme temperatures, treacherous terrain, and powerful storms. The planet is also known for its unique atmosphere, which is filled with a mixture of exotic gases and chemicals that make it difficult for human beings to breathe without specialized equipment.\n",
      "\n",
      "History and Culture:\n",
      "Little is known about the history and culture of Foobar, as it is primarily depicted as a mysterious and unexplored world. However, it is often mentioned in the works of science fiction authors as a place of adventure, where brave explorers and travelers seek to uncover its secrets and discover its treasures. Some stories suggest that Foobar has a rich and complex history, with a civilization that has evolved over thousands of years in isolation from the rest of the galaxy.\n",
      "\n",
      "In popular culture, Foobar has been featured in a number of science fiction movies, TV shows, and books, including Star Wars, Star Trek, and the Hitchhiker's Guide to the Galaxy series. It is often portrayed as a dangerous and exotic world, with a unique and alien ecosystem that poses a threat to any human visitors. Despite its dangers, Foobar remains a popular destination for science fiction fans, who are eager to explore its mysteries and discover the secrets of its civilization.\n",
      "\n",
      "Overall, Foobar is a fictional planet that has captured the imagination of science fiction fans for generations. Its unique features and characteristics make it a fascinating and compelling setting for stories and adventures, and it continues to inspire new works of science fiction literature and media. Whether it is a place of danger and mystery or a rich and complex civilization, Foobar remains a staple of the science fiction genre and a symbol of the endless possibilities of the universe.\n"
     ]
    }
   ],
   "source": [
    "prompt = \"Write an article about the fictional planet Foobar.\"\n",
    "\n",
    "kwargs = {\n",
    "    \"modelId\": \"amazon.titan-text-express-v1\",\n",
    "    \"contentType\": \"application/json\",\n",
    "    \"accept\": \"*/*\",\n",
    "    \"body\": json.dumps(\n",
    "        {\n",
    "            \"inputText\": prompt,\n",
    "            \"textGenerationConfig\": {\n",
    "                \"maxTokenCount\": 512,\n",
    "                \"temperature\": 0.7,\n",
    "                \"topP\": 0.9\n",
    "            }\n",
    "        }\n",
    "    )\n",
    "}\n",
    "\n",
    "response = bedrock_runtime.invoke_model(**kwargs)\n",
    "response_body = json.loads(response.get('body').read())\n",
    "\n",
    "generation = response_body['results'][0]['outputText']\n",
    "\n",
    "print(generation)"
   ]
  },
  {
   "cell_type": "code",
   "execution_count": 10,
   "id": "68a7bab7",
   "metadata": {
    "height": 30
   },
   "outputs": [
    {
     "name": "stdout",
     "output_type": "stream",
     "text": [
      "Permissions are correctly set for Amazon Bedrock logs.\n",
      "-------------------------\n",
      "\n"
     ]
    }
   ],
   "source": [
    "cloudwatch.print_recent_logs(log_group_name)"
   ]
  },
  {
   "cell_type": "markdown",
   "id": "1118acfb",
   "metadata": {},
   "source": [
    "To review the logs within the AWS console, please use the following link to reference the steps outlined in the video:"
   ]
  },
  {
   "cell_type": "code",
   "execution_count": 11,
   "id": "2cf443d2",
   "metadata": {
    "height": 47
   },
   "outputs": [],
   "source": [
    "from IPython.display import HTML\n",
    "aws_url = os.environ['AWS_CONSOLE_URL']"
   ]
  },
  {
   "cell_type": "code",
   "execution_count": 12,
   "id": "0b7c904c",
   "metadata": {
    "height": 47
   },
   "outputs": [
    {
     "data": {
      "text/html": [
       "<a href=\"https://signin.aws.amazon.com/federation?Action=login&SigninToken=JkIhyo55Qfio1kzJTwxHp2HcGDad9Dr1AOhzmPrgsjebr1HUlm2Y4LyYqzYvpkcoN4UYAR28_Vv3w-vg5bil0PFvRrEAh0vmcmnH9HhcwnY7JxGwGlSdJo_jjiODB2YDEKCNDxil3ShbYHaP2EF0byhYJ4wMxSXyQvt1_LcbX5XACukNPzJ7vYJ3DMCVR37Qo1sl1WThr8bB7szODZV4P4fWc91Drvb1ALi91R0WERUNUQjSVkPyYevvipRR6XkQ5QaMQVHR_cEM9sW24qWWCBz3xR_dKRWu2yMVPlP0rYja4hci5ZyUp1eJ0PCHe6ZpNZCu-dMZjMosnEGGlnd9bMfmL6Pub_u4RfoApO-FSeR1CUsEWQxre7g3EJqgwCZ2QEKLdDpwJCA7g-p5w5o50-byGCR9m53NOIa52wjvTdf47_B4LQqutFBf8VhsR90mH6H8_T1Pb1_nscAWELG4xOr83D7h8KIUzD057GJ0N2YJC5XgNEzy5MvHvAMUtymZ7Q4c6OsUi1WeUPMgPQZJLOD5QRvhoyLgjWB25w27ttNMejvIMCoNeyEbSQfMczjbqyzABwL3a73VZ9eoYvd8wzRqCmIxnLNcCM7SXKAAfBY3hARcfEAUJLBfTrMlVvcN5LNTCYPPqKC5KYlM-K52vRGSg1xSc4Iut7dhsH7eFHf0bE1xQI3R3M6kORwzMvC0VkRXgNJuBjLbzg__RJCOX93eyx8todA8sC5z2QDPHw3Eh_I0PdpwEANoCYxxayghMp140sGG-Fxis6V0_gjbADrLXD-wwIgSwIpqET4b3NAj9CwjMcTjjWSavIaf6mTYXkw1nUyLpv63PEY-m3UURZ8-aPGt9lKC_RaQGybLe3iwwLkJtJitqWMDSymEX_X-ibHE7EITasVOCEtKiUiiFcaIMPk6zDcywOn-My0JTS6_a795oT8p9ywFQCg_Ygaz596fO00VQjAq67cm820BbSpPlR3ByHfhGQEwc1p3jts9I0wL35hU7xZW8VAV9uSlQKO4uz5wCJZhZC2Sd8Bm14IX-BhTEQQDwlxLn9LFRbpX0bIazl8YJQ7NNahy-OUYc722hRqERuzIQwWZv6YVRJD991cu1FDWEZ1QLfk60NFuyuzI28ObW26opa1pHrj1T_LHxZcWEe5ND900hQot03jD2-3J3FAmHXoVhTLSmexFcrX7dPC5XjF61BFeVOnCOivaObgF43hD68HIkJFAUwHljlW2G0w0mPAcB-BAsTqCviHP82lYmn8iAv4QZfINaoXjfIZkuAM8jS3WGr0erimAzrxIzoG4zGzWJARUvypGDho3kMtdav6tGmlWDOAOidVLZkG94dki7WnPuif8rhoUOHQfO-LVa-R8-u9MWcfp5Lgh83H7HP-njnt-jqRcFLic3Shy59BEpXt5KNglnKw2RDEbYcXzn9zvWuNpGzCMko2wNJ8&Issuer=https%3A%2F%2Fapi.vocareum.com&Destination=https%3A%2F%2Fconsole.aws.amazon.com%2Fconsole%2Fhome%3Fregion%3Dus-west-2\" target=\"_blank\">GO TO AWS CONSOLE</a>"
      ],
      "text/plain": [
       "<IPython.core.display.HTML object>"
      ]
     },
     "execution_count": 12,
     "metadata": {},
     "output_type": "execute_result"
    }
   ],
   "source": [
    "HTML(f'<a href=\"{aws_url}\" target=\"_blank\">GO TO AWS CONSOLE</a>')\n"
   ]
  }
 ],
 "metadata": {
  "kernelspec": {
   "display_name": "Python 3 (ipykernel)",
   "language": "python",
   "name": "python3"
  },
  "language_info": {
   "codemirror_mode": {
    "name": "ipython",
    "version": 3
   },
   "file_extension": ".py",
   "mimetype": "text/x-python",
   "name": "python",
   "nbconvert_exporter": "python",
   "pygments_lexer": "ipython3",
   "version": "3.11.8"
  }
 },
 "nbformat": 4,
 "nbformat_minor": 5
}
